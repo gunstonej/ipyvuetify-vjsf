{
 "cells": [
  {
   "cell_type": "code",
   "execution_count": 3,
   "id": "0be7d310-2965-458d-83f2-2325dcf4c356",
   "metadata": {},
   "outputs": [],
   "source": [
    "# uncomment next lines to enable hot reloading of vue template(s). (needs the watchdog package)\n",
    "import ipywidgets as widgets\n",
    "import ipyvue\n",
    "ipyvue.watch('.')\n",
    "\n",
    "import ipyvuetify as v\n",
    "import traitlets\n",
    "\n",
    "class TryVjsf(v.VuetifyTemplate):\n",
    "    template_file = \"try_vjsf.vue\"\n",
    "    \n",
    "    vjsf_loaded = traitlets.Bool(False).tag(sync=True)\n",
    "    form_data = traitlets.Dict(default_value={}).tag(sync=True)\n",
    "    schema = traitlets.Dict().tag(sync=True)\n",
    "    valid = traitlets.Bool(False).tag(sync=True)\n",
    "    \n",
    "\n",
    "schema = {'title': 'DocumentHeader',\n",
    " 'description': \"\"\"\n",
    "---<br>\n",
    "<big><b>Document Header</b></big>: the metadata to be accompanied by every formal document issue within the AEC industry.<br>\n",
    "---\"\"\",\n",
    " 'type': 'object',\n",
    " 'properties': {'project name': {'title': 'Project Name',\n",
    "   'default': 'In House App Testing',\n",
    "   'type': 'string'},\n",
    "  'project number': {'title': 'Project Number',\n",
    "   'default': 'J5001',\n",
    "   'type': 'string'},\n",
    "  'document name': {'title': 'Document Name',\n",
    "   'default': '06667-MXF-XX-XX-SH-M-20003',\n",
    "   'type': 'string'},\n",
    "  'document description': {'title': 'Document Description',\n",
    "   'default': 'Document Description',\n",
    "   'type': 'string'},\n",
    "  'classification': {'title': 'Classification',\n",
    "   'description': 'classification as per Uniclass2015',\n",
    "   'default': 'Ac_05',\n",
    "   'type': 'string'},\n",
    "  'name nomenclature': {'title': 'Name Nomenclature',\n",
    "   'default': 'project code-originator-volume-level-type-role-number',\n",
    "   'type': 'string'},\n",
    "  'size': {'title': 'Size',\n",
    "   'description': 'paper size of the document',\n",
    "   'default': 'A4',\n",
    "   'type': 'string'},\n",
    "  'scale': {'title': 'Scale',\n",
    "   'description': 'if drawing, give scale, else \"not to scale\" (NTS)',\n",
    "   'default': 'NTS',\n",
    "   'type': 'string'},\n",
    "  'doc source': {'title': 'Doc Source',\n",
    "   'description': 'software used to author the document',\n",
    "   'default': 'WD',\n",
    "   'type': 'string'},\n",
    "  'notes': {'title': 'Notes', 'type': 'array', 'items': {'type': 'string'}},\n",
    "  'roles': {'title': 'Roles',\n",
    "   'description': 'defines who is fulfilling various roles on the project.currently the there is no validation on the \"allowed roles\", but in the future this should probably link up with the work Dan, Andy and Dean having been doing  on roles and responsibilities. It is suggested that the __Project Leader__ (or senior partner...)role should be required on every project, and that only 1no Project Leader can exist on a project at a given time. Any document can then inherit this Project Leader field.[TODO: fix the required roles for a project / integrate with WebApp]{custom-style=\"mf_green\"}',\n",
    "   'type': 'array',\n",
    "   'items': {'$ref': '#/definitions/Role'}},\n",
    "  'issue history': {'title': 'Issue History',\n",
    "   'type': 'array',\n",
    "   'items': {'$ref': '#/definitions/Issue'}},\n",
    "  'originator': {'title': 'Originator',\n",
    "   'description': \"the company the info came from (fixed to be Max Fordham LLP). the name 'originator' comes from BS EN ISO 19650-2\",\n",
    "   'const': 'Max Fordham LLP',\n",
    "   'type': 'string'}},\n",
    " 'definitions': {'Role': {'title': 'Role',\n",
    "   'type': 'object',\n",
    "   'properties': {'name': {'title': 'Name',\n",
    "     'description': 'initial of the person fulfilling the Role',\n",
    "     'default': 'JG',\n",
    "     'type': 'string'},\n",
    "    'role': {'title': 'Role',\n",
    "     'default': 'Project Engineer',\n",
    "     'type': 'string'}}},\n",
    "  'IssueFormatEnum': {'title': 'IssueFormatEnum',\n",
    "   'description': 'An enumeration.',\n",
    "   'enum': ['cde', 'ea', 'el', 'p', 'r'],\n",
    "   'type': 'string'},\n",
    "  'Issue': {'title': 'Issue',\n",
    "   'description': 'required information fields that define the metadata of a document issue',\n",
    "   'type': 'object',\n",
    "   'properties': {'revision': {'title': 'Revision',\n",
    "     'default': 'P01',\n",
    "     'type': 'string'},\n",
    "    'date': {'title': 'Date',\n",
    "     'default': '2020-01-02',\n",
    "     'type': 'string',\n",
    "     'format': 'date'},\n",
    "    'status code': {'title': 'Status Code', 'default': 'S2', 'type': 'string'},\n",
    "    'status description': {'title': 'Status Description',\n",
    "     'description': 'this is a BIM field that matches directly with statusCode. TODO: add validation',\n",
    "     'default': 'Suitable for information',\n",
    "     'type': 'string'},\n",
    "    'author': {'title': 'Author',\n",
    "     'description': '\\nthe person who authored the work. \\nthis is an optional field as for many info types listing a single author is not appropriate. \\n_could change the type to be either a single author or a list of authors..._\\nthis field has been explicitly requested by Canary Wharf.',\n",
    "     'default': 'EG',\n",
    "     'type': 'string'},\n",
    "    'checked by': {'title': 'Checked By',\n",
    "     'description': '\\nthe person who checked the work. \\nthis is an optional field as for many info types listing a single checkedBy is not appropriate. \\n_could change the type to be either a single author or a list of authors..._\\nthis field has been explicitly requested by Canary Wharf.\\nit is most appropriate for drawings - less so for Spec. ',\n",
    "     'default': 'CK',\n",
    "     'type': 'string'},\n",
    "    'issue format': {'description': 'in what form was the issue delivered',\n",
    "     'default': 'cde',\n",
    "     'allOf': [{'$ref': '#/definitions/IssueFormatEnum'}]},\n",
    "    'issue notes': {'title': 'Issue Notes',\n",
    "     'description': 'free field where the Engineer can briefly summarise changes since previous issue',\n",
    "     'default': '',\n",
    "     'type': 'string'}}}}}\n",
    "    \n",
    "my_form = TryVjsf(schema=schema)\n",
    "my_form1 = TryVjsf(schema=schema)\n",
    "#my_form"
   ]
  },
  {
   "cell_type": "code",
   "execution_count": 2,
   "id": "e636b75c-affc-451c-9c36-d641adb3b42d",
   "metadata": {},
   "outputs": [
    {
     "data": {
      "application/vnd.jupyter.widget-view+json": {
       "model_id": "cc92c97909d64d3f936b69e37615a2ba",
       "version_major": 2,
       "version_minor": 0
      },
      "text/plain": [
       "Accordion(children=(TryVjsf(schema={'title': 'DocumentHeader', 'description': '\\n---<br>\\n<big><b>Document Hea…"
      ]
     },
     "metadata": {},
     "output_type": "display_data"
    }
   ],
   "source": [
    "acc = widgets.Accordion([my_form, my_form1])\n",
    "#acc"
   ]
  },
  {
   "cell_type": "code",
   "execution_count": null,
   "id": "749398a5-2b75-4818-b8b9-cdf794da28c3",
   "metadata": {},
   "outputs": [],
   "source": []
  },
  {
   "cell_type": "code",
   "execution_count": null,
   "id": "12a0ed72-c9e7-4f5c-bfda-9d6696dfe3f0",
   "metadata": {},
   "outputs": [],
   "source": []
  },
  {
   "cell_type": "code",
   "execution_count": null,
   "id": "0ba41bf8-6373-4023-905b-656821a4b6f1",
   "metadata": {},
   "outputs": [],
   "source": []
  },
  {
   "cell_type": "code",
   "execution_count": 3,
   "id": "4220de30-fa1d-44fe-9bb4-47a787a690a6",
   "metadata": {},
   "outputs": [
    {
     "data": {
      "application/vnd.jupyter.widget-view+json": {
       "model_id": "94456073d48542baad3616c851f58914",
       "version_major": 2,
       "version_minor": 0
      },
      "text/plain": [
       "TryVjsf(schema={'title': 'Person', 'type': 'object', 'properties': {'name': {'title': 'Name', 'type': 'string'…"
      ]
     },
     "metadata": {},
     "output_type": "display_data"
    }
   ],
   "source": [
    "from typing import List\n",
    "from pydantic import BaseModel, Field\n",
    "\n",
    "\n",
    "class PetCls:\n",
    "    def __init__(self, *, name: str, species: str):\n",
    "        self.name = name\n",
    "        self.species = species\n",
    "\n",
    "\n",
    "class PersonCls:\n",
    "    def __init__(self, *, name: str, age: float = None, pets: List[PetCls]):\n",
    "        self.name = name\n",
    "        self.age = age\n",
    "        self.pets = pets\n",
    "\n",
    "\n",
    "class Pet(BaseModel):\n",
    "    name: str\n",
    "    species: str\n",
    "\n",
    "    class Config:\n",
    "        orm_mode = True\n",
    "\n",
    "\n",
    "class Person(BaseModel):\n",
    "    name: str\n",
    "    age: float = Field\n",
    "    pets: List[Pet]\n",
    "\n",
    "    class Config:\n",
    "        orm_mode = True\n",
    "\n",
    "\n",
    "bones = PetCls(name='Bones', species='dog')\n",
    "orion = PetCls(name='Orion', species='cat')\n",
    "anna = PersonCls(name='Anna', age=20, pets=[bones, orion])\n",
    "p_form = TryVjsf(schema=Person.schema())\n",
    "p_form"
   ]
  },
  {
   "cell_type": "code",
   "execution_count": null,
   "id": "884a0466-c149-4338-aeca-1a86a396b1a2",
   "metadata": {},
   "outputs": [],
   "source": []
  },
  {
   "cell_type": "code",
   "execution_count": null,
   "id": "e0b0ad04-01ed-461b-9e2e-8111e5f4901e",
   "metadata": {},
   "outputs": [],
   "source": []
  },
  {
   "cell_type": "code",
   "execution_count": 4,
   "id": "a408f7d7-ca39-4797-886e-87c078801a8d",
   "metadata": {},
   "outputs": [
    {
     "data": {
      "text/plain": [
       "{'pets': [{'name': 'zasdf', 'species': 'asdfa'}]}"
      ]
     },
     "execution_count": 4,
     "metadata": {},
     "output_type": "execute_result"
    }
   ],
   "source": [
    "p_form.form_data"
   ]
  },
  {
   "cell_type": "code",
   "execution_count": 11,
   "id": "61c4c8ce-d2a6-44db-bcf9-7113f3b4f4e2",
   "metadata": {},
   "outputs": [],
   "source": [
    "from enum import Enum\n",
    "from pydantic import BaseModel, Field\n",
    "from pydantic.color import Color\n",
    "\n",
    "class FooBar(BaseModel):\n",
    "    count: int\n",
    "    size: float = None\n",
    "\n",
    "\n",
    "class Gender(str, Enum):\n",
    "    male = 'male'\n",
    "    female = 'female'\n",
    "    other = 'other'\n",
    "    not_given = 'not_given'\n",
    "\n",
    "\n",
    "class MainModel(BaseModel):\n",
    "    \"\"\"\n",
    "    This is the description of the main model\n",
    "    \"\"\"\n",
    "\n",
    "    foo_bar: FooBar = Field(...)\n",
    "    gender: Gender = Field(None)\n",
    "    snap: int = Field(\n",
    "        42,\n",
    "        title='The Snap',\n",
    "        description='this is the value of snap',\n",
    "        ge=30,\n",
    "        le=50,\n",
    "        #x-display= \"slider\",\n",
    "    )\n",
    "    color: Color\n",
    "    \n",
    "    class Config:\n",
    "        title = 'Main'\n"
   ]
  },
  {
   "cell_type": "code",
   "execution_count": 12,
   "id": "f953e2bf-bf73-4a5a-bc5e-413257b64d5f",
   "metadata": {},
   "outputs": [],
   "source": [
    "schema = MainModel.schema()\n",
    "schema[\"properties\"][\"snap\"][\"x-display\"] = \"slider\"\n",
    "schema[\"properties\"][\"snap\"][\"x-props\"] =  {\"thumbLabel\": \"always\"}\n",
    "w = TryVjsf(schema=schema)\n",
    "w1 = TryVjsf(schema=schema)"
   ]
  },
  {
   "cell_type": "code",
   "execution_count": 22,
   "id": "25ad0c7d-0198-41fc-9594-6523ec1249ad",
   "metadata": {},
   "outputs": [],
   "source": [
    "from enum import Enum, IntEnum\n",
    "\n",
    "from pydantic import BaseModel, ValidationError\n",
    "\n",
    "\n",
    "class FruitEnum(str, Enum):\n",
    "    pear = 'pear'\n",
    "    banana = 'banana'\n",
    "\n",
    "\n",
    "class ToolEnum(IntEnum):\n",
    "    spanner = 1\n",
    "    wrench = 2\n",
    "\n",
    "\n",
    "class CookingModel(BaseModel):\n",
    "    fruit: FruitEnum = FruitEnum.pear\n",
    "    tool: ToolEnum = ToolEnum.spanner"
   ]
  },
  {
   "cell_type": "code",
   "execution_count": 23,
   "id": "22a3a986-6031-4584-8f68-5623d89b0af5",
   "metadata": {},
   "outputs": [
    {
     "data": {
      "application/vnd.jupyter.widget-view+json": {
       "model_id": "5fbe95ff7948473b90f50b31430c767a",
       "version_major": 2,
       "version_minor": 0
      },
      "text/plain": [
       "TryVjsf(schema={'title': 'CookingModel', 'type': 'object', 'properties': {'fruit': {'default': <FruitEnum.pear…"
      ]
     },
     "metadata": {},
     "output_type": "display_data"
    }
   ],
   "source": [
    "schema = CookingModel.schema()\n",
    "w = TryVjsf(schema=schema)\n",
    "w"
   ]
  },
  {
   "cell_type": "code",
   "execution_count": 24,
   "id": "7cb066e3-7af3-4f70-a5ff-82efed81b14f",
   "metadata": {},
   "outputs": [
    {
     "data": {
      "text/plain": [
       "{'title': 'CookingModel',\n",
       " 'type': 'object',\n",
       " 'properties': {'fruit': {'default': <FruitEnum.pear: 'pear'>,\n",
       "   'allOf': [{'$ref': '#/definitions/FruitEnum'}]},\n",
       "  'tool': {'default': <ToolEnum.spanner: 1>,\n",
       "   'allOf': [{'$ref': '#/definitions/ToolEnum'}]}},\n",
       " 'definitions': {'FruitEnum': {'title': 'FruitEnum',\n",
       "   'description': 'An enumeration.',\n",
       "   'enum': ['pear', 'banana'],\n",
       "   'type': 'string'},\n",
       "  'ToolEnum': {'title': 'ToolEnum',\n",
       "   'description': 'An enumeration.',\n",
       "   'enum': [1, 2],\n",
       "   'type': 'integer'}}}"
      ]
     },
     "execution_count": 24,
     "metadata": {},
     "output_type": "execute_result"
    }
   ],
   "source": [
    "schema"
   ]
  },
  {
   "cell_type": "code",
   "execution_count": 25,
   "id": "f4fbc4c4-a0ce-4558-9555-47f5d8f8b011",
   "metadata": {},
   "outputs": [
    {
     "data": {
      "application/vnd.jupyter.widget-view+json": {
       "model_id": "836942ebd24942daaa55dd5a69bcc3e1",
       "version_major": 2,
       "version_minor": 0
      },
      "text/plain": [
       "TryVjsf(schema={'title': 'Main', 'description': 'This is the description of the main model', 'type': 'object',…"
      ]
     },
     "metadata": {},
     "output_type": "display_data"
    }
   ],
   "source": [
    "from enum import Enum\n",
    "from pydantic import BaseModel, Field\n",
    "\n",
    "\n",
    "class FooBar(BaseModel):\n",
    "    count: int\n",
    "    size: float = None\n",
    "\n",
    "\n",
    "class Gender(str, Enum):\n",
    "    male = 'male'\n",
    "    female = 'female'\n",
    "    other = 'other'\n",
    "    not_given = 'not_given'\n",
    "\n",
    "\n",
    "class MainModel(BaseModel):\n",
    "    \"\"\"\n",
    "    This is the description of the main model\n",
    "    \"\"\"\n",
    "\n",
    "    foo_bar: FooBar = Field(...)\n",
    "    gender: Gender = Field(...)\n",
    "    snap: int = Field(\n",
    "        42,\n",
    "        title='The Snap',\n",
    "        description='this is the value of snap',\n",
    "        gt=30,\n",
    "        lt=50,\n",
    "    )\n",
    "\n",
    "    class Config:\n",
    "        title = 'Main'\n",
    "schema = MainModel.schema()\n",
    "w = TryVjsf(schema=schema)\n",
    "w"
   ]
  },
  {
   "cell_type": "code",
   "execution_count": 35,
   "id": "1c4d8d77-114d-4bb4-8315-3b1e0f8630d0",
   "metadata": {},
   "outputs": [
    {
     "data": {
      "text/plain": [
       "{'title': 'Main',\n",
       " 'description': 'This is the description of the main model',\n",
       " 'type': 'object',\n",
       " 'properties': {'foo_bar': {'$ref': '#/definitions/FooBar'},\n",
       "  'gender': {'$ref': '#/definitions/Gender'},\n",
       "  'snap': {'title': 'The Snap',\n",
       "   'description': 'this is the value of snap',\n",
       "   'default': 42,\n",
       "   'exclusiveMinimum': 30,\n",
       "   'exclusiveMaximum': 50,\n",
       "   'type': 'integer'}},\n",
       " 'required': ['foo_bar', 'gender'],\n",
       " 'definitions': {'FooBar': {'title': 'FooBar',\n",
       "   'type': 'object',\n",
       "   'properties': {'count': {'title': 'Count', 'type': 'integer'},\n",
       "    'size': {'title': 'Size', 'type': 'number'}},\n",
       "   'required': ['count']},\n",
       "  'Gender': {'title': 'Gender',\n",
       "   'description': 'An enumeration.',\n",
       "   'enum': ['male', 'female', 'other', 'not_given'],\n",
       "   'type': 'string'}}}"
      ]
     },
     "execution_count": 35,
     "metadata": {},
     "output_type": "execute_result"
    }
   ],
   "source": [
    "schema"
   ]
  },
  {
   "cell_type": "code",
   "execution_count": 33,
   "id": "d2547cb4-e464-45cf-b4c3-a34e7cecee23",
   "metadata": {},
   "outputs": [
    {
     "data": {
      "application/vnd.jupyter.widget-view+json": {
       "model_id": "33320ab0363b4e7293d3b5db62ed74e5",
       "version_major": 2,
       "version_minor": 0
      },
      "text/plain": [
       "TryVjsf(schema={'title': 'Person', 'type': 'object', 'properties': {'name': {'title': 'Name', 'type': 'string'…"
      ]
     },
     "metadata": {},
     "output_type": "display_data"
    }
   ],
   "source": [
    "from typing import List\n",
    "from pydantic import BaseModel, Field\n",
    "\n",
    "\n",
    "class PetCls:\n",
    "    def __init__(self, *, name: str, species: str):\n",
    "        self.name = name\n",
    "        self.species = species\n",
    "\n",
    "\n",
    "class PersonCls:\n",
    "    def __init__(self, *, name: str, age: float = None, pets: List[PetCls]):\n",
    "        self.name = name\n",
    "        self.age = age\n",
    "        self.pets = pets\n",
    "\n",
    "\n",
    "class Pet(BaseModel):\n",
    "    name: str\n",
    "    species: str\n",
    "\n",
    "    class Config:\n",
    "        orm_mode = True\n",
    "\n",
    "\n",
    "class Person(BaseModel):\n",
    "    name: str\n",
    "    age: float = None\n",
    "    pets: List[Pet]\n",
    "\n",
    "    class Config:\n",
    "        orm_mode = True\n",
    "\n",
    "\n",
    "bones = PetCls(name='Bones', species='dog')\n",
    "orion = PetCls(name='Orion', species='cat')\n",
    "anna = PersonCls(name='Anna', age=20, pets=[bones, orion])\n",
    "p_form = TryVjsf(schema=Person.schema())\n",
    "p_form"
   ]
  },
  {
   "cell_type": "code",
   "execution_count": 29,
   "id": "904a68f3-574b-44a1-9b7c-dc8a69e652c9",
   "metadata": {},
   "outputs": [
    {
     "name": "stdout",
     "output_type": "stream",
     "text": [
      "asdf\n"
     ]
    }
   ],
   "source": [
    "from typing import Callable\n",
    "from pydantic import BaseModel\n",
    "\n",
    "def test():\n",
    "    print('asdf')\n",
    "\n",
    "class Foo(BaseModel):\n",
    "    callback: Callable\n",
    "    id = int\n",
    "\n",
    "m = Foo(callback=test)\n",
    "m.callback()"
   ]
  },
  {
   "cell_type": "code",
   "execution_count": 34,
   "id": "83b4c1ec-1127-4b93-9d4b-e50f8124c3a0",
   "metadata": {},
   "outputs": [
    {
     "ename": "NameError",
     "evalue": "name 'm' is not defined",
     "output_type": "error",
     "traceback": [
      "\u001b[0;31m---------------------------------------------------------------------------\u001b[0m",
      "\u001b[0;31mNameError\u001b[0m                                 Traceback (most recent call last)",
      "\u001b[0;32m/tmp/ipykernel_1853/2773612401.py\u001b[0m in \u001b[0;36m<module>\u001b[0;34m\u001b[0m\n\u001b[0;32m----> 1\u001b[0;31m \u001b[0mm\u001b[0m\u001b[0;34m.\u001b[0m\u001b[0mjson\u001b[0m\u001b[0;34m(\u001b[0m\u001b[0;34m)\u001b[0m\u001b[0;34m\u001b[0m\u001b[0;34m\u001b[0m\u001b[0m\n\u001b[0m",
      "\u001b[0;31mNameError\u001b[0m: name 'm' is not defined"
     ]
    }
   ],
   "source": [
    "m.json()"
   ]
  },
  {
   "cell_type": "code",
   "execution_count": 31,
   "id": "66520791-af63-46d9-87eb-16f46933d9ab",
   "metadata": {},
   "outputs": [
    {
     "data": {
      "application/vnd.jupyter.widget-view+json": {
       "model_id": "d2bd99676b2e4560894fd1bd94aa53dc",
       "version_major": 2,
       "version_minor": 0
      },
      "text/plain": [
       "HBox(children=(TryVjsf(form_data={'issue history': [], 'roles': [], 'notes': [], 'doc source': 'WD', 'scale': …"
      ]
     },
     "metadata": {},
     "output_type": "display_data"
    }
   ],
   "source": [
    "widgets.HBox([my_form])"
   ]
  },
  {
   "cell_type": "code",
   "execution_count": 32,
   "id": "cb6c75fa-2107-4469-826a-8f7603a21cc6",
   "metadata": {},
   "outputs": [
    {
     "data": {
      "application/vnd.jupyter.widget-view+json": {
       "model_id": "fce36f6ef966473b9613e70666216ebf",
       "version_major": 2,
       "version_minor": 0
      },
      "text/plain": [
       "Container(children=[Btn(children=['Click me'], color='primary'), TryVjsf(form_data={'issue history': [], 'role…"
      ]
     },
     "metadata": {},
     "output_type": "display_data"
    }
   ],
   "source": [
    "my_container = v.Container(children=[\n",
    "    v.Btn(color='primary', children=['Click me']),\n",
    "    my_form\n",
    "])\n",
    "my_container"
   ]
  },
  {
   "cell_type": "code",
   "execution_count": 33,
   "id": "5f53dcd4-91a6-4ac7-b6de-1592bb01e84f",
   "metadata": {},
   "outputs": [],
   "source": [
    "#my_container.__dict__"
   ]
  },
  {
   "cell_type": "code",
   "execution_count": 34,
   "id": "d0189142-fb60-47d1-9c34-cdeb6c7bac63",
   "metadata": {},
   "outputs": [
    {
     "data": {
      "text/plain": [
       "__main__.TryVjsf"
      ]
     },
     "execution_count": 34,
     "metadata": {},
     "output_type": "execute_result"
    }
   ],
   "source": [
    "type(my_form)"
   ]
  },
  {
   "cell_type": "code",
   "execution_count": 35,
   "id": "4c5b493a-aa9c-4b67-8197-034fff0d6a5d",
   "metadata": {},
   "outputs": [],
   "source": [
    "import ipywidgets as widgets"
   ]
  },
  {
   "cell_type": "code",
   "execution_count": 36,
   "id": "c954209e-f877-4002-adbb-dc0a0eaa527a",
   "metadata": {},
   "outputs": [
    {
     "data": {
      "application/vnd.jupyter.widget-view+json": {
       "model_id": "d8b863828a7845d795d8008c945435a4",
       "version_major": 2,
       "version_minor": 0
      },
      "text/plain": [
       "TryVjsf(form_data={'issue history': [], 'roles': [], 'notes': [], 'doc source': 'WD', 'scale': 'NTS', 'size': …"
      ]
     },
     "metadata": {},
     "output_type": "display_data"
    }
   ],
   "source": [
    "display(my_form)"
   ]
  },
  {
   "cell_type": "code",
   "execution_count": 37,
   "id": "df82e0f3-3ad9-4e33-997d-a02a66cf5fc4",
   "metadata": {},
   "outputs": [],
   "source": [
    "box = widgets.HBox()\n",
    "box.children = [my_form]"
   ]
  },
  {
   "cell_type": "code",
   "execution_count": 38,
   "id": "9c46da9d-15aa-4031-9dbd-a70699f0bc7d",
   "metadata": {},
   "outputs": [
    {
     "data": {
      "application/vnd.jupyter.widget-view+json": {
       "model_id": "22d17577069f462893af2677d72bab9d",
       "version_major": 2,
       "version_minor": 0
      },
      "text/plain": [
       "Container(children=[Btn(children=['Click me'], color='primary')])"
      ]
     },
     "metadata": {},
     "output_type": "display_data"
    }
   ],
   "source": [
    "v.Container(children=[\n",
    "    v.Btn(color='primary', children=['Click me'])\n",
    "])"
   ]
  },
  {
   "cell_type": "code",
   "execution_count": 39,
   "id": "96f8b6a2-2739-413c-8b33-dd93513a5b5c",
   "metadata": {},
   "outputs": [],
   "source": [
    "import sys\n",
    "sys.path.append('/mnt/c/engDev/git_mf/mfom')"
   ]
  },
  {
   "cell_type": "code",
   "execution_count": 21,
   "id": "0e19d693-9c20-410c-b2e5-80418e288495",
   "metadata": {},
   "outputs": [],
   "source": [
    "from mfom.document import DocumentHeader"
   ]
  },
  {
   "cell_type": "code",
   "execution_count": 22,
   "id": "42326ccc-c586-4426-a248-7c16e41378bc",
   "metadata": {},
   "outputs": [
    {
     "data": {
      "text/plain": [
       "{'title': 'DocumentHeader',\n",
       " 'description': 'metadata to be accompanied by every formal document issue. \\n\\n__Aspiration__: not all data fields are required for every document type, \\nbut no document will require additional data fields.\\n\\n__Note__: The parameter names are stored in the background as \"camelCase\"\\nbut are output as \"sentence case\" (all lower case). This is configurable and simple to change.',\n",
       " 'type': 'object',\n",
       " 'properties': {'project name': {'title': 'Project Name',\n",
       "   'default': 'In House App Testing',\n",
       "   'type': 'string'},\n",
       "  'project number': {'title': 'Project Number',\n",
       "   'default': 'J5001',\n",
       "   'type': 'string'},\n",
       "  'fpth job data ini': {'title': 'Fpth Job Data Ini',\n",
       "   'default': '',\n",
       "   'type': 'string'},\n",
       "  'roles': {'title': 'Roles',\n",
       "   'description': 'defines who is fulfilling various roles on the project.currently the there is no validation on the \"allowed roles\", but in the future this should probably link up with the work Dan, Andy and Dean having been doing  on roles and responsibilities. It is suggested that the __Project Leader__ (or senior partner...)role should be required on every project, and that only 1no Project Leader can exist on a project at a given time. Any document can then inherit this Project Leader field.[TODO: fix the required roles for a project / integrate with WebApp]{custom-style=\"mf_green\"}',\n",
       "   'type': 'array',\n",
       "   'items': {'$ref': '#/definitions/Role'}},\n",
       "  'document name': {'title': 'Document Name',\n",
       "   'default': '06667-MXF-XX-XX-SH-M-20003',\n",
       "   'type': 'string'},\n",
       "  'document description': {'title': 'Document Description',\n",
       "   'default': 'Document Description',\n",
       "   'type': 'string'},\n",
       "  'classification': {'title': 'Classification',\n",
       "   'description': 'classification as per Uniclass2015',\n",
       "   'default': 'Ac_05',\n",
       "   'type': 'string'},\n",
       "  'name nomenclature': {'title': 'Name Nomenclature',\n",
       "   'default': 'project code-originator-volume-level-type-role-number',\n",
       "   'type': 'string'},\n",
       "  'size': {'title': 'Size',\n",
       "   'description': 'paper size of the document',\n",
       "   'default': 'A4',\n",
       "   'type': 'string'},\n",
       "  'scale': {'title': 'Scale',\n",
       "   'description': 'if drawing, give scale, else \"not to scale\" (NTS)',\n",
       "   'default': 'NTS',\n",
       "   'type': 'string'},\n",
       "  'doc source': {'title': 'Doc Source',\n",
       "   'description': 'software used to author the document',\n",
       "   'default': 'WD',\n",
       "   'type': 'string'},\n",
       "  'issue history': {'title': 'Issue History',\n",
       "   'type': 'array',\n",
       "   'items': {'$ref': '#/definitions/Issue'}},\n",
       "  'notes': {'title': 'Notes', 'type': 'array', 'items': {'type': 'string'}},\n",
       "  'originator': {'title': 'Originator',\n",
       "   'description': \"the company the info came from (fixed to be Max Fordham LLP). the name 'originator' comes from BS EN ISO 19650-2\",\n",
       "   'const': 'Max Fordham LLP',\n",
       "   'type': 'string'},\n",
       "  'format configuration': {'title': 'Format Configuration',\n",
       "   'default': {'dateStringFormat': '%d %^b %y',\n",
       "    'descriptionInFilename': False},\n",
       "   'allOf': [{'$ref': '#/definitions/FormatConfiguration'}]}},\n",
       " 'definitions': {'Role': {'title': 'Role',\n",
       "   'type': 'object',\n",
       "   'properties': {'name': {'title': 'Name',\n",
       "     'description': 'initial of the person fulfilling the Role',\n",
       "     'default': 'JG',\n",
       "     'type': 'string'},\n",
       "    'role': {'title': 'Role',\n",
       "     'default': 'Project Engineer',\n",
       "     'type': 'string'}}},\n",
       "  'IssueFormatEnum': {'title': 'IssueFormatEnum',\n",
       "   'description': 'An enumeration.',\n",
       "   'enum': ['cde', 'ea', 'el', 'p', 'r'],\n",
       "   'type': 'string'},\n",
       "  'Issue': {'title': 'Issue',\n",
       "   'description': 'required information fields that define the metadata of a document issue',\n",
       "   'type': 'object',\n",
       "   'properties': {'revision': {'title': 'Revision',\n",
       "     'default': 'P01',\n",
       "     'type': 'string'},\n",
       "    'date': {'title': 'Date',\n",
       "     'default': '2020-01-02',\n",
       "     'type': 'string',\n",
       "     'format': 'date'},\n",
       "    'status code': {'title': 'Status Code', 'default': 'S2', 'type': 'string'},\n",
       "    'status description': {'title': 'Status Description',\n",
       "     'description': 'this is a BIM field that matches directly with statusCode. TODO: add validation',\n",
       "     'default': 'Suitable for information',\n",
       "     'type': 'string'},\n",
       "    'author': {'title': 'Author',\n",
       "     'description': '\\nthe person who authored the work. \\nthis is an optional field as for many info types listing a single author is not appropriate. \\n_could change the type to be either a single author or a list of authors..._\\nthis field has been explicitly requested by Canary Wharf.',\n",
       "     'default': 'EG',\n",
       "     'type': 'string'},\n",
       "    'checked by': {'title': 'Checked By',\n",
       "     'description': '\\nthe person who checked the work. \\nthis is an optional field as for many info types listing a single checkedBy is not appropriate. \\n_could change the type to be either a single author or a list of authors..._\\nthis field has been explicitly requested by Canary Wharf.\\nit is most appropriate for drawings - less so for Spec. ',\n",
       "     'default': 'CK',\n",
       "     'type': 'string'},\n",
       "    'issue format': {'description': 'in what form was the issue delivered',\n",
       "     'default': 'cde',\n",
       "     'allOf': [{'$ref': '#/definitions/IssueFormatEnum'}]},\n",
       "    'issue notes': {'title': 'Issue Notes',\n",
       "     'description': 'free field where the Engineer can briefly summarise changes since previous issue',\n",
       "     'default': '',\n",
       "     'type': 'string'}}},\n",
       "  'FormatConfiguration': {'title': 'FormatConfiguration',\n",
       "   'type': 'object',\n",
       "   'properties': {'date string format': {'title': 'Date String Format',\n",
       "     'default': '%d %^b %y',\n",
       "     'type': 'string'},\n",
       "    'description in filename': {'title': 'Description In Filename',\n",
       "     'default': False,\n",
       "     'type': 'boolean'}}}}}"
      ]
     },
     "execution_count": 22,
     "metadata": {},
     "output_type": "execute_result"
    }
   ],
   "source": [
    "DocumentHeader().schema()"
   ]
  },
  {
   "cell_type": "code",
   "execution_count": null,
   "id": "0c129454-5fb6-4c4f-9a10-970d85704a35",
   "metadata": {},
   "outputs": [],
   "source": []
  }
 ],
 "metadata": {
  "kernelspec": {
   "display_name": "Python 3 (ipykernel)",
   "language": "python",
   "name": "python3"
  },
  "language_info": {
   "codemirror_mode": {
    "name": "ipython",
    "version": 3
   },
   "file_extension": ".py",
   "mimetype": "text/x-python",
   "name": "python",
   "nbconvert_exporter": "python",
   "pygments_lexer": "ipython3",
   "version": "3.9.7"
  }
 },
 "nbformat": 4,
 "nbformat_minor": 5
}
